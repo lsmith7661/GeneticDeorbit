{
 "cells": [
  {
   "cell_type": "markdown",
   "metadata": {},
   "source": [
    "# Genetic Deorbit Functions"
   ]
  },
  {
   "cell_type": "code",
   "execution_count": null,
   "metadata": {
    "scrolled": false
   },
   "outputs": [],
   "source": [
    "using Distributed \n",
    "@everywhere using GeneticDeorbit"
   ]
  },
  {
   "cell_type": "code",
   "execution_count": null,
   "metadata": {},
   "outputs": [],
   "source": [
    "@time begin\n",
    "    switching_alt = 150e3\n",
    "    burn_duration = 180*pi/180\n",
    "    sc = spacecraft(switching_alt, burn_duration)\n",
    "    my_traj = eval_fitness(sc)\n",
    "end\n",
    "@show my_traj.fitness\n",
    "plotCOES(my_traj)"
   ]
  },
  {
   "cell_type": "code",
   "execution_count": null,
   "metadata": {},
   "outputs": [],
   "source": [
    "@time begin\n",
    "    switching_alt = 425e3\n",
    "    burn_duration = 60*pi/180\n",
    "    sc2 = spacecraft(switching_alt, burn_duration)\n",
    "    my_traj2 = eval_fitness(sc2)\n",
    "end\n",
    "@show my_traj2.fitness - my_traj.fitness\n",
    "plotCOES(my_traj2)"
   ]
  },
  {
   "cell_type": "code",
   "execution_count": null,
   "metadata": {},
   "outputs": [],
   "source": [
    "@time begin\n",
    "    switching_alt = 200e3\n",
    "    burn_duration = 0*pi/180\n",
    "    sc3 = spacecraft(switching_alt, burn_duration)\n",
    "    my_traj3 = eval_fitness(sc3)\n",
    "end\n",
    "@show my_traj3.fitness - my_traj.fitness\n",
    "plotCOES(my_traj3)"
   ]
  },
  {
   "cell_type": "code",
   "execution_count": null,
   "metadata": {},
   "outputs": [],
   "source": [
    "Evolutionary.minimizer(results)"
   ]
  },
  {
   "cell_type": "code",
   "execution_count": null,
   "metadata": {},
   "outputs": [],
   "source": []
  }
 ],
 "metadata": {
  "@webio": {
   "lastCommId": null,
   "lastKernelId": null
  },
  "kernelspec": {
   "display_name": "Julia 1.7.2",
   "language": "julia",
   "name": "julia-1.7"
  },
  "language_info": {
   "file_extension": ".jl",
   "mimetype": "application/julia",
   "name": "julia",
   "version": "1.7.2"
  }
 },
 "nbformat": 4,
 "nbformat_minor": 5
}
