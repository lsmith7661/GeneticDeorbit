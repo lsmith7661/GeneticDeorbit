{
 "cells": [
  {
   "cell_type": "markdown",
   "id": "7dbf4421",
   "metadata": {},
   "source": [
    "# Custom Propagator\n",
    "#### Too slow with drag model"
   ]
  },
  {
   "cell_type": "code",
   "execution_count": null,
   "id": "8a82b6ba",
   "metadata": {},
   "outputs": [],
   "source": [
    "using GeneticDeorbit\n",
    "using Plots"
   ]
  },
  {
   "cell_type": "code",
   "execution_count": null,
   "id": "cfb7983e",
   "metadata": {},
   "outputs": [],
   "source": [
    "@show exponential_atmosphere_density(0.0)\n",
    "@show exponential_atmosphere_density(150000.0)\n",
    "@show exponential_atmosphere_density(350000.0)\n",
    "@show exponential_atmosphere_density(600000.0)"
   ]
  },
  {
   "cell_type": "code",
   "execution_count": null,
   "id": "076d9153",
   "metadata": {},
   "outputs": [],
   "source": [
    "# Propagate for 10 days. Thrust is assumed in the negative intrack direction\n",
    "tspan = (0.0,10*24*60.0*60.0)\n",
    "ephem = cowellsprop(initialstate_rv_eci, thrust1_m_s_s, tspan)\n",
    "\n",
    "@time begin\n",
    "    ephem = cowellsprop(initialstate_rv_eci, thrust1_m_s_s, tspan)\n",
    "end"
   ]
  },
  {
   "cell_type": "code",
   "execution_count": null,
   "id": "6c60c55f",
   "metadata": {},
   "outputs": [],
   "source": [
    "t = ephem.t\n",
    "states = ephem.u\n",
    "x  = []\n",
    "y  = []\n",
    "z  = []\n",
    "vx = []\n",
    "vy = []\n",
    "vz = []\n",
    "for state in states\n",
    "    push!(x,state[1])\n",
    "    push!(y,state[2])\n",
    "    push!(z,state[3])\n",
    "    push!(vx,state[4])\n",
    "    push!(vy,state[5])\n",
    "    push!(vz,state[6])\n",
    "end\n",
    "\n",
    "plt = plot3d(x,y,z,\n",
    "    title = \"Earth Orbit\",\n",
    "    marker = 2,\n",
    ")"
   ]
  },
  {
   "cell_type": "markdown",
   "id": "984cfd4c",
   "metadata": {},
   "source": [
    "# Julia Propagator\n",
    "#### SatelliteDynamics.jl doesn't work for current dates because it isnt maintained...."
   ]
  },
  {
   "cell_type": "code",
   "execution_count": null,
   "id": "af4f15bd",
   "metadata": {},
   "outputs": [],
   "source": [
    "using GeneticDeorbit\n",
    "import GeneticDeorbit: throttle # need to import to extend method\n",
    "using SatelliteDynamicsLCS\n",
    "using StaticArrays\n",
    "using Plots"
   ]
  },
  {
   "cell_type": "code",
   "execution_count": null,
   "id": "d0844c0f",
   "metadata": {},
   "outputs": [],
   "source": [
    "# Declare simulation initial Epoch and state\n",
    "epoch0 = Epoch(2015, 4, 25, 12, 0, 0, 0.0) \n",
    "epochf = epoch0 + 30*24*60*60\n",
    "r0 = SVector{3,Float64}(2712241.37, -358426.60, -6318958.88) # m\n",
    "v0 = SVector{3,Float64}(3891.70, 6403.93, 1265.18) # m/s\n",
    "s0_eci = [r0[1], r0[2], r0[3], v0[1], v0[2], v0[3]]\n"
   ]
  },
  {
   "cell_type": "code",
   "execution_count": null,
   "id": "3d941df4",
   "metadata": {},
   "outputs": [],
   "source": [
    "# Define throttle method\n",
    "throttle(state::Array{<:Real, 1}) = throttle(state,pi,45*pi/180)\n",
    "\n",
    "#EarthInertialState orbit propagagator\n",
    "orb  = EarthInertialState(epoch0, s0_eci, dt=60.0,\n",
    "            mass=500.0, area_drag = 25.0, n_grav=0, m_grav=0,\n",
    "            drag=true, srp=false,\n",
    "            moon=false, sun=false,\n",
    "            relativity=false,\n",
    "            thrust_m_s_s = 0.100/500,\n",
    "            throttle = throttle\n",
    ")\n",
    "reinit!(orb);"
   ]
  },
  {
   "cell_type": "code",
   "execution_count": null,
   "id": "bc64a2d9",
   "metadata": {},
   "outputs": [],
   "source": [
    "t = []\n",
    "epc = []\n",
    "eci = []\n",
    "@time begin\n",
    "    t, epc, eci = sim!(orb, epochf)\n",
    "end\n",
    "plot3d(eci[1,:],eci[2,:],eci[3,:],)"
   ]
  },
  {
   "cell_type": "code",
   "execution_count": null,
   "id": "99af6207",
   "metadata": {},
   "outputs": [],
   "source": [
    "using LinearAlgebra\n",
    "rp = []\n",
    "ra = []\n",
    "ecc = []\n",
    "θ = []\n",
    "T = []\n",
    "for i = 1:size(eci)[2]\n",
    "    state = eci[:,i]\n",
    "    r = state[1:3]\n",
    "    v = state[4:6]\n",
    "    rmag = norm(r)\n",
    "    h = cross(r,v)\n",
    "    hmag = norm(h)\n",
    "    e = cross(v,h)/μ - r/rmag\n",
    "    emag = norm(e)\n",
    "    rpi = hmag^2/μ * (1/1-emag)\n",
    "    rai = hmag^2/μ * (1/1+emag)\n",
    "    \n",
    "    θi = acos(dot(e, r) / (emag * rmag))\n",
    "    if dot(r, v) < 0\n",
    "        θi = 2*pi - θi\n",
    "    end\n",
    "    push!(θ, θi)\n",
    "    push!(T,throttle(state))\n",
    "    push!(rp,rpi-R_EARTH)\n",
    "    push!(ra,rai-R_EARTH)  \n",
    "    push!(ecc,emag)\n",
    "end"
   ]
  },
  {
   "cell_type": "code",
   "execution_count": null,
   "id": "4ed12e86",
   "metadata": {},
   "outputs": [],
   "source": [
    "plt = plot(t,rp./1e3,label=\"rp\")\n",
    "plot!(plt,t,ra./1e3, label=\"ra\")"
   ]
  },
  {
   "cell_type": "code",
   "execution_count": null,
   "id": "90654e79",
   "metadata": {},
   "outputs": [],
   "source": [
    "plot(ecc)"
   ]
  },
  {
   "cell_type": "code",
   "execution_count": null,
   "id": "50dfde29",
   "metadata": {},
   "outputs": [],
   "source": [
    "ind = 1000\n",
    "plot(t[1:ind],[θ[1:ind], 2*pi*T[1:ind]])"
   ]
  }
 ],
 "metadata": {
  "@webio": {
   "lastCommId": null,
   "lastKernelId": null
  },
  "kernelspec": {
   "display_name": "Julia 1.6.3",
   "language": "julia",
   "name": "julia-1.6"
  },
  "language_info": {
   "file_extension": ".jl",
   "mimetype": "application/julia",
   "name": "julia",
   "version": "1.6.3"
  }
 },
 "nbformat": 4,
 "nbformat_minor": 5
}
