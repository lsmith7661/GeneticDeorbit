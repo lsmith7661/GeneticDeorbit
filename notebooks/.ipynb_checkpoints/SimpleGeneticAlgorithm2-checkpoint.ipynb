{
 "cells": [
  {
   "cell_type": "markdown",
   "id": "537dde60",
   "metadata": {},
   "source": [
    "# Simple Genetic Algorithm"
   ]
  },
  {
   "cell_type": "code",
   "execution_count": null,
   "id": "0c1205be",
   "metadata": {},
   "outputs": [],
   "source": [
    "using GeneticDeorbit\n",
    "using Evolutionary"
   ]
  },
  {
   "cell_type": "code",
   "execution_count": null,
   "id": "ec024cd0",
   "metadata": {},
   "outputs": [],
   "source": [
    "weights = [1.0, 0.0] # 100% on time, 0% on throttle\n",
    "lower = [250.0e3, 0.0]\n",
    "upper = [450.0e3, pi]\n",
    "result = Evolutionary.optimize(\n",
    "         x-> eval_fitness_val(x,weights),\n",
    "         BoxConstraints(lower, upper),\n",
    "         GA(populationSize = 10, selection = uniformranking(3),\n",
    "            crossover = AX, mutation = PLM()),\n",
    "            Evolutionary.Options(iterations=20,\n",
    "                                 time_limit=60*60.0))"
   ]
  },
  {
   "cell_type": "code",
   "execution_count": null,
   "id": "e8628be4",
   "metadata": {},
   "outputs": [],
   "source": []
  }
 ],
 "metadata": {
  "@webio": {
   "lastCommId": null,
   "lastKernelId": null
  },
  "kernelspec": {
   "display_name": "Julia 1.6.3",
   "language": "julia",
   "name": "julia-1.6"
  },
  "language_info": {
   "file_extension": ".jl",
   "mimetype": "application/julia",
   "name": "julia",
   "version": "1.6.3"
  }
 },
 "nbformat": 4,
 "nbformat_minor": 5
}
