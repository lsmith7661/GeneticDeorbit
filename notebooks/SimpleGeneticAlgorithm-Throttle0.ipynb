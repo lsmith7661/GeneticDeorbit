{
 "cells": [
  {
   "cell_type": "markdown",
   "metadata": {},
   "source": [
    "# Simple Genetic Algorithm"
   ]
  },
  {
   "cell_type": "code",
   "execution_count": null,
   "metadata": {},
   "outputs": [],
   "source": [
    "using Pkg\n",
    "Pkg.activate(\"/home/lism8025/Documents/Projects/GeneticDeorbit\")"
   ]
  },
  {
   "cell_type": "code",
   "execution_count": null,
   "metadata": {},
   "outputs": [],
   "source": [
    "using Distributed \n",
    "@everywhere using GeneticDeorbit\n",
    "@everywhere using Evolutionary\n",
    "@everywhere import Evolutionary: trace!\n",
    "@everywhere using Distributions, Random\n",
    "using Plots"
   ]
  },
  {
   "cell_type": "code",
   "execution_count": null,
   "metadata": {},
   "outputs": [],
   "source": [
    "# custom result trace\n",
    "function trace!(record::Dict{String,Any}, objfun, state, population, method, options)\n",
    "    record[\"state\"] = deepcopy(state)\n",
    "    record[\"objfun\"] = deepcopy(objfun)\n",
    "    record[\"population\"] = deepcopy(population)\n",
    "end"
   ]
  },
  {
   "cell_type": "code",
   "execution_count": null,
   "metadata": {},
   "outputs": [],
   "source": [
    "function rand_x0() \n",
    "    return [rand(Uniform(lower[1], upper[1])), rand(Uniform(lower[2], upper[2]))]\n",
    "end\n",
    "\n",
    "# selection function picks top N of population\n",
    "function myselection\n",
    "end\n",
    "\n",
    "# crossover function averages values\n",
    "function mycrossover(v1::T, v2::T; rng::AbstractRNG=Random.default_rng()) where {T <: AbstractVector}\n",
    "    c1 = (v1+v2)./2\n",
    "    return c1, copy(c1)\n",
    "end\n",
    "\n",
    "# mutation function sometimes creates new random offspring\n",
    "function mymutation(v1::T; rng::AbstractRNG=Random.default_rng()) where {T <: AbstractVector}\n",
    "    return rand_x0()\n",
    "end"
   ]
  },
  {
   "cell_type": "code",
   "execution_count": null,
   "metadata": {},
   "outputs": [],
   "source": [
    "# Params\n",
    "normalizer = [5184000, 5230]\n",
    "weights = [1.0, 0.0]./normalizer # 0% on throttle\n",
    "lower = [250.0e3, 0.0]\n",
    "upper = [450.0e3, pi/2]\n",
    "\n",
    "# Optimize\n",
    "result = Evolutionary.optimize(\n",
    "         x-> eval_fitness_val(x,weights),\n",
    "         BoxConstraints(lower, upper),\n",
    "         rand_x0,\n",
    "         GA(populationSize = 20, \n",
    "            selection = rouletteinv,\n",
    "            crossover = AX, \n",
    "            mutation = mymutation,\n",
    "            epsilon = 4\n",
    "            ),\n",
    "         Evolutionary.Options(iterations=100,\n",
    "                              time_limit=8*60*60.0,\n",
    "                              store_trace = true,\n",
    "                              show_trace = false,\n",
    "                              parallelization=:thread, # :serial, :thread\n",
    "                              )\n",
    "         ) "
   ]
  },
  {
   "cell_type": "code",
   "execution_count": null,
   "metadata": {},
   "outputs": [],
   "source": [
    "gene_hist1 = []\n",
    "gene_hist2 = []\n",
    "avg_fit_hist = []\n",
    "best_fit_hist = []\n",
    "best_gene1 = []\n",
    "best_gene2 = []\n",
    "pop_fit_hist = []\n",
    "for iteration in result.trace\n",
    "    population = permutedims(hcat(iteration.metadata[\"population\"]...))\n",
    "    gene1 = population[:,1]\n",
    "    gene2 = population[:,2]\n",
    "    avg_fit = mean(iteration.metadata[\"state\"].fitpop)\n",
    "    push!(pop_fit_hist, iteration.metadata[\"state\"].fitpop)\n",
    "    push!(avg_fit_hist, avg_fit)\n",
    "    push!(best_fit_hist, iteration.value)\n",
    "    push!(gene_hist1, gene1)\n",
    "    push!(best_gene1, iteration.metadata[\"state\"].fittest[1])\n",
    "    push!(gene_hist2, gene2)\n",
    "    push!(best_gene2, iteration.metadata[\"state\"].fittest[2])\n",
    "end"
   ]
  },
  {
   "cell_type": "code",
   "execution_count": null,
   "metadata": {},
   "outputs": [],
   "source": [
    "opt_sc = spacecraft(result.minimizer[1], result.minimizer[2])\n",
    "opt_traj = eval_fitness(opt_sc, [1.0, 1.0]./[5184000,5230])\n",
    "plotOptimal(opt_traj, gene_hist1, gene_hist2)"
   ]
  },
  {
   "cell_type": "code",
   "execution_count": null,
   "metadata": {},
   "outputs": [],
   "source": [
    "splt = scatter(ones(size(gene_hist1[1])), gene_hist1[1])\n",
    "for i = 2:length(gene_hist1)\n",
    "    scatter!(splt, i.*ones(size(gene_hist1[i])), gene_hist1[i])\n",
    "end\n",
    "plot!(splt, best_gene1, markershape=:star, label=\"Iteration Best\")\n",
    "\n",
    "@show splt"
   ]
  },
  {
   "cell_type": "code",
   "execution_count": null,
   "metadata": {},
   "outputs": [],
   "source": [
    "splt2 = scatter(ones(size(gene_hist2[1])), gene_hist2[1]./(pi))\n",
    "for i = 2:length(gene_hist2)\n",
    "    scatter!(splt2, i.*ones(size(gene_hist2[i])), gene_hist2[i]./(pi))\n",
    "end\n",
    "plot!(splt2, best_gene2/(pi), markershape=:star, label=\"Iteration Best\")\n",
    "\n",
    "@show splt2"
   ]
  },
  {
   "cell_type": "code",
   "execution_count": null,
   "metadata": {},
   "outputs": [],
   "source": [
    "plt = plot(avg_fit_hist, markershape=:^, label=\"Iteration Average\")\n",
    "plot!(plt, best_fit_hist, markershape=:star, label=\"Iteration Best\")\n",
    "\n",
    "for i = 1:length(pop_fit_hist)\n",
    "    scatter!(plt, i.*ones(size(pop_fit_hist[i])), pop_fit_hist[i], label=\"Iteration \" * string(i), legend=:topright)\n",
    "end\n",
    "\n",
    "@show plt"
   ]
  },
  {
   "cell_type": "code",
   "execution_count": null,
   "metadata": {},
   "outputs": [],
   "source": [
    "using JSON\n",
    "# Save Results\n",
    "save_dict = Dict(\"weights\" => weights, \n",
    "                 \"gene1_history\" => hcat(gene_hist1...), \n",
    "                 \"gene2_history\" => hcat(gene_hist2...),\n",
    "                 \"pop_fit_hist\"  => hcat(pop_fit_hist...),\n",
    "                 \"fittest_hist\"  => hcat(best_gene1, best_gene2),\n",
    "                 \"fittest_val_hist\"  => best_fit_hist,\n",
    "                 )\n",
    "\n",
    "open(\"throttle0.json\",\"w\") do f\n",
    "  JSON.print(f, save_dict, 4)\n",
    "end"
   ]
  },
  {
   "cell_type": "code",
   "execution_count": null,
   "metadata": {},
   "outputs": [],
   "source": [
    "using Pkg\n",
    "Pkg.activate(\"/home/lism8025/Documents/Projects/GeneticDeorbit\")\n",
    "using GeneticDeorbit\n",
    "using JSON, Plots\n",
    "data = JSON.parsefile(\"throttle0.json\")\n",
    "opt_sc = spacecraft(data[\"fittest_hist\"][1][end],  data[\"fittest_hist\"][2][end])\n",
    "opt_traj = eval_fitness(opt_sc, [1.0, 1.0]./[1.248e7,5230])\n",
    "plotOptimal(opt_traj, data[\"gene1_history\"], data[\"gene2_history\"])\n",
    "savefig(\"throttle0.png\")"
   ]
  },
  {
   "cell_type": "code",
   "execution_count": null,
   "metadata": {},
   "outputs": [],
   "source": []
  }
 ],
 "metadata": {
  "@webio": {
   "lastCommId": null,
   "lastKernelId": null
  },
  "kernelspec": {
   "display_name": "Julia_128_threads 1.7.2",
   "language": "julia",
   "name": "julia_128_threads-1.7"
  },
  "language_info": {
   "file_extension": ".jl",
   "mimetype": "application/julia",
   "name": "julia",
   "version": "1.7.2"
  }
 },
 "nbformat": 4,
 "nbformat_minor": 5
}
